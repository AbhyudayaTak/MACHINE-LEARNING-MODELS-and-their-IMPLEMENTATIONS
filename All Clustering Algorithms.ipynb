{
  "nbformat": 4,
  "nbformat_minor": 0,
  "metadata": {
    "colab": {
      "provenance": []
    },
    "kernelspec": {
      "name": "python3",
      "display_name": "Python 3"
    },
    "language_info": {
      "name": "python"
    }
  },
  "cells": [
    {
      "cell_type": "markdown",
      "source": [
        "# **K-MEANS CLUSTERING**"
      ],
      "metadata": {
        "id": "m6FK1QVDSp1_"
      }
    },
    {
      "cell_type": "code",
      "source": [
        "import numpy as np\n",
        "import matplotlib.pyplot as plt\n",
        "from sklearn.datasets import make_blobs\n",
        "from sklearn.cluster import KMeans\n",
        "\n",
        "# Generate synthetic data\n",
        "X, y = make_blobs(n_samples=300, centers=4, cluster_std=0.60, random_state=0)\n",
        "\n",
        "# Fit K-Means\n",
        "kmeans = KMeans(n_clusters=4)\n",
        "kmeans.fit(X)\n",
        "y_kmeans = kmeans.predict(X)\n",
        "\n",
        "# Plotting\n",
        "plt.scatter(X[:, 0], X[:, 1], c=y_kmeans, s=50, cmap='viridis')\n",
        "centers = kmeans.cluster_centers_\n",
        "plt.scatter(centers[:, 0], centers[:, 1], c='red', s=200, alpha=0.75, marker='X')\n",
        "plt.title('K-Means Clustering')\n",
        "plt.show()"
      ],
      "metadata": {
        "id": "cEtYSxDlS0d5"
      },
      "execution_count": null,
      "outputs": []
    },
    {
      "cell_type": "markdown",
      "source": [
        "#**HIERARCHICAL CLUSTERING**\n"
      ],
      "metadata": {
        "id": "2MWe0aatTDSZ"
      }
    },
    {
      "cell_type": "code",
      "source": [
        "import numpy as np\n",
        "import matplotlib.pyplot as plt\n",
        "from sklearn.datasets import make_blobs\n",
        "from scipy.cluster.hierarchy import dendrogram, linkage\n",
        "\n",
        "# Generate synthetic data\n",
        "X, y = make_blobs(n_samples=300, centers=4, cluster_std=0.60, random_state=0)\n",
        "\n",
        "# Perform hierarchical clustering\n",
        "linked = linkage(X, 'ward')\n",
        "\n",
        "# Plot dendrogram\n",
        "plt.figure(figsize=(10, 7))\n",
        "dendrogram(linked, orientation='top', distance_sort='descending', show_leaf_counts=True)\n",
        "plt.title('Hierarchical Clustering Dendrogram')\n",
        "plt.show()"
      ],
      "metadata": {
        "id": "DYceyFeiTYDy"
      },
      "execution_count": null,
      "outputs": []
    },
    {
      "cell_type": "markdown",
      "source": [
        "#**DBSCAN (Density-Based Spatial Clustering of Applications with Noise)**\n"
      ],
      "metadata": {
        "id": "jAm9HuVjTaDm"
      }
    },
    {
      "cell_type": "code",
      "source": [
        "import numpy as np\n",
        "import matplotlib.pyplot as plt\n",
        "from sklearn.datasets import make_moons\n",
        "from sklearn.cluster import DBSCAN\n",
        "\n",
        "# Generate synthetic data\n",
        "X, y = make_moons(n_samples=300, noise=0.05)\n",
        "\n",
        "# Fit DBSCAN\n",
        "dbscan = DBSCAN(eps=0.2, min_samples=5)\n",
        "y_dbscan = dbscan.fit_predict(X)\n",
        "\n",
        "# Plotting\n",
        "plt.scatter(X[:, 0], X[:, 1], c=y_dbscan, s=50, cmap='viridis')\n",
        "plt.title('DBSCAN Clustering')\n",
        "plt.show()"
      ],
      "metadata": {
        "id": "FVzietkfTmYp"
      },
      "execution_count": null,
      "outputs": []
    },
    {
      "cell_type": "markdown",
      "source": [
        "# **Mean Shift Clustering**"
      ],
      "metadata": {
        "id": "LIQs2iD_ToSK"
      }
    },
    {
      "cell_type": "code",
      "source": [
        "import numpy as np\n",
        "import matplotlib.pyplot as plt\n",
        "from sklearn.datasets import make_blobs\n",
        "from sklearn.cluster import MeanShift\n",
        "\n",
        "# Generate synthetic data\n",
        "X, y = make_blobs(n_samples=300, centers=3, cluster_std=0.60, random_state=0)\n",
        "\n",
        "# Fit Mean Shift\n",
        "mean_shift = MeanShift()\n",
        "mean_shift.fit(X)\n",
        "y_mean_shift = mean_shift.predict(X)\n",
        "\n",
        "# Plotting\n",
        "plt.scatter(X[:, 0], X[:, 1], c=y_mean_shift, s=50, cmap='viridis')\n",
        "plt.title('Mean Shift Clustering')\n",
        "plt.show()"
      ],
      "metadata": {
        "id": "0UONXTW0TuZd"
      },
      "execution_count": null,
      "outputs": []
    },
    {
      "cell_type": "markdown",
      "source": [
        "# **Mean Shift Clustering**"
      ],
      "metadata": {
        "id": "mU6GgyFbTwmF"
      }
    },
    {
      "cell_type": "code",
      "source": [
        "import numpy as np\n",
        "import matplotlib.pyplot as plt\n",
        "from sklearn.datasets import make_blobs\n",
        "from sklearn.cluster import MeanShift\n",
        "\n",
        "# Generate synthetic data\n",
        "X, y = make_blobs(n_samples=300, centers=3, cluster_std=0.60, random_state=0)\n",
        "\n",
        "# Fit Mean Shift\n",
        "mean_shift = MeanShift()\n",
        "mean_shift.fit(X)\n",
        "y_mean_shift = mean_shift.predict(X)\n",
        "\n",
        "# Plotting\n",
        "plt.scatter(X[:, 0], X[:, 1], c=y_mean_shift, s=50, cmap='viridis')\n",
        "plt.title('Mean Shift Clustering')\n",
        "plt.show()"
      ],
      "metadata": {
        "id": "LpmnlEQ-T4Le"
      },
      "execution_count": null,
      "outputs": []
    },
    {
      "cell_type": "markdown",
      "source": [
        "# **Gaussian Mixture Model (GMM)**"
      ],
      "metadata": {
        "id": "yG8TZ_IwT6GZ"
      }
    },
    {
      "cell_type": "code",
      "source": [
        "import numpy as np\n",
        "import matplotlib.pyplot as plt\n",
        "from sklearn.datasets import make_blobs\n",
        "from sklearn.mixture import GaussianMixture\n",
        "\n",
        "# Generate synthetic data\n",
        "X, y = make_blobs(n_samples=300, centers=3, cluster_std=0.60, random_state=0)\n",
        "\n",
        "# Fit GMM\n",
        "gmm = GaussianMixture(n_components=3)\n",
        "gmm.fit(X)\n",
        "y_gmm = gmm.predict(X)\n",
        "\n",
        "# Plotting\n",
        "plt.scatter(X[:, 0], X[:, 1], c=y_gmm, s=50, cmap='viridis')\n",
        "plt.title('Gaussian Mixture Model Clustering')\n",
        "plt.show()"
      ],
      "metadata": {
        "id": "q7p0IvsET99F"
      },
      "execution_count": null,
      "outputs": []
    },
    {
      "cell_type": "markdown",
      "source": [
        "# **Spectral Clustering**"
      ],
      "metadata": {
        "id": "wZ-mI4DmT_-G"
      }
    },
    {
      "cell_type": "code",
      "source": [
        "import numpy as np\n",
        "import matplotlib.pyplot as plt\n",
        "from sklearn.datasets import make_blobs\n",
        "from sklearn.cluster import SpectralClustering\n",
        "\n",
        "# Generate synthetic data\n",
        "X, y = make_blobs(n_samples=300, centers=3, cluster_std=0.60, random_state=0)\n",
        "\n",
        "# Fit Spectral Clustering\n",
        "spectral = SpectralClustering(n_clusters=3, affinity='nearest_neighbors')\n",
        "y_spectral = spectral.fit_predict(X)\n",
        "\n",
        "# Plotting\n",
        "plt.scatter(X[:, 0], X[:, 1], c=y_spectral, s=50, cmap='viridis')\n",
        "plt.title('Spectral Clustering')\n",
        "plt.show()"
      ],
      "metadata": {
        "id": "05WWlVSAUDin"
      },
      "execution_count": null,
      "outputs": []
    }
  ]
}